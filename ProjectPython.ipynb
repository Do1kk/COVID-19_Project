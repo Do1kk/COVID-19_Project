{
  "cells": [
    {
      "cell_type": "markdown",
      "metadata": {
        "id": "zittG7GSeJg7",
        "colab_type": "text"
      },
      "source": [
        "# **Porównanie dwóch wybranych modeli ML do przewidywania zgonów z powodu wybuchu COVID-19**"
      ]
    },
    {
      "cell_type": "markdown",
      "metadata": {
        "colab_type": "text",
        "id": "M3CtITfOZ-Q0"
      },
      "source": [
        "## **Pobranie danych z 2 źródeł.**"
      ]
    },
    {
      "cell_type": "code",
      "metadata": {
        "id": "IcBUB9qlS-5m",
        "colab_type": "code",
        "colab": {
          "base_uri": "https://localhost:8080/",
          "height": 72
        },
        "outputId": "1b50ea60-ddd1-4881-d37f-1859a85ca27c"
      },
      "source": [
        "import urllib.request\n",
        "import seaborn as sns\n",
        "import numpy as np\n",
        "import pandas as pd\n",
        "import matplotlib.pyplot as plt\n",
        "from sklearn.metrics import classification_report, confusion_matrix\n",
        "\n",
        "%matplotlib inline\n",
        "plt.style.use('seaborn-whitegrid')"
      ],
      "execution_count": 2,
      "outputs": []
    },
    {
      "cell_type": "markdown",
      "metadata": {},
      "source": [
        "### Pierwsze źródło"
      ]
    },
    {
      "cell_type": "code",
      "metadata": {
        "id": "QMJCU_bldB-Z",
        "colab_type": "code",
        "colab": {},
        "tags": []
      },
      "source": [
        "# Manage first source of data.\n",
        "url1 = \"https://raw.githubusercontent.com/dtandev/coronavirus/master/data/CoronavirusPL%20-%20General.csv\"\n",
        "data1 = pd.read_csv(url1)\n",
        "data1.set_index('Timestamp', inplace=True)\n",
        "data1.tail()"
      ],
      "execution_count": 3,
      "outputs": [
        {
          "output_type": "execute_result",
          "data": {
            "text/plain": "            Confirmed  Deaths  Recovered  In_the_hospital  In_quarantine  \\\nTimestamp                                                                  \n13-06-2020      29017    1237       9416             1748          93094   \n14-06-2020      29392    1247       9555             1736          94518   \n15-06-2020      29788    1256       9668             1806          95641   \n16-06-2020      30195    1272       9936             1693          96255   \n17-06-2020      30701    1286      10284             1849          93722   \n\n            Under_medical_supervision  Number_of_tests_carried_out  \nTimestamp                                                           \n13-06-2020                      18666                      1169088  \n14-06-2020                      17966                      1188742  \n15-06-2020                      17261                      1202024  \n16-06-2020                      17195                      1221133  \n17-06-2020                      17354                      1247099  ",
            "text/html": "<div>\n<style scoped>\n    .dataframe tbody tr th:only-of-type {\n        vertical-align: middle;\n    }\n\n    .dataframe tbody tr th {\n        vertical-align: top;\n    }\n\n    .dataframe thead th {\n        text-align: right;\n    }\n</style>\n<table border=\"1\" class=\"dataframe\">\n  <thead>\n    <tr style=\"text-align: right;\">\n      <th></th>\n      <th>Confirmed</th>\n      <th>Deaths</th>\n      <th>Recovered</th>\n      <th>In_the_hospital</th>\n      <th>In_quarantine</th>\n      <th>Under_medical_supervision</th>\n      <th>Number_of_tests_carried_out</th>\n    </tr>\n    <tr>\n      <th>Timestamp</th>\n      <th></th>\n      <th></th>\n      <th></th>\n      <th></th>\n      <th></th>\n      <th></th>\n      <th></th>\n    </tr>\n  </thead>\n  <tbody>\n    <tr>\n      <th>13-06-2020</th>\n      <td>29017</td>\n      <td>1237</td>\n      <td>9416</td>\n      <td>1748</td>\n      <td>93094</td>\n      <td>18666</td>\n      <td>1169088</td>\n    </tr>\n    <tr>\n      <th>14-06-2020</th>\n      <td>29392</td>\n      <td>1247</td>\n      <td>9555</td>\n      <td>1736</td>\n      <td>94518</td>\n      <td>17966</td>\n      <td>1188742</td>\n    </tr>\n    <tr>\n      <th>15-06-2020</th>\n      <td>29788</td>\n      <td>1256</td>\n      <td>9668</td>\n      <td>1806</td>\n      <td>95641</td>\n      <td>17261</td>\n      <td>1202024</td>\n    </tr>\n    <tr>\n      <th>16-06-2020</th>\n      <td>30195</td>\n      <td>1272</td>\n      <td>9936</td>\n      <td>1693</td>\n      <td>96255</td>\n      <td>17195</td>\n      <td>1221133</td>\n    </tr>\n    <tr>\n      <th>17-06-2020</th>\n      <td>30701</td>\n      <td>1286</td>\n      <td>10284</td>\n      <td>1849</td>\n      <td>93722</td>\n      <td>17354</td>\n      <td>1247099</td>\n    </tr>\n  </tbody>\n</table>\n</div>"
          },
          "metadata": {},
          "execution_count": 3
        }
      ]
    },
    {
      "cell_type": "code",
      "execution_count": 14,
      "metadata": {
        "tags": []
      },
      "outputs": [
        {
          "output_type": "stream",
          "name": "stdout",
          "text": "<class 'pandas.core.frame.DataFrame'>\nIndex: 107 entries, 03-03-2020 to 17-06-2020\nData columns (total 7 columns):\n #   Column                       Non-Null Count  Dtype\n---  ------                       --------------  -----\n 0   Confirmed                    107 non-null    int64\n 1   Deaths                       107 non-null    int64\n 2   Recovered                    107 non-null    int64\n 3   In_the_hospital              107 non-null    int64\n 4   In_quarantine                107 non-null    int64\n 5   Under_medical_supervision    107 non-null    int64\n 6   Number_of_tests_carried_out  107 non-null    int64\ndtypes: int64(7)\nmemory usage: 6.7+ KB\n"
        }
      ],
      "source": [
        "data1.info()"
      ]
    },
    {
      "cell_type": "markdown",
      "metadata": {},
      "source": [
        "### Drugie źródło"
      ]
    },
    {
      "cell_type": "code",
      "metadata": {
        "id": "4riIOSPf1r7u",
        "colab_type": "code",
        "colab": {},
        "tags": []
      },
      "source": [
        "# Manage second source of data.\n",
        "url2_confirmed = \"https://raw.githubusercontent.com/CSSEGISandData/COVID-19/master/csse_covid_19_data/csse_covid_19_time_series/time_series_covid19_confirmed_global.csv\"\n",
        "url2_deaths = \"https://raw.githubusercontent.com/CSSEGISandData/COVID-19/master/csse_covid_19_data/csse_covid_19_time_series/time_series_covid19_deaths_global.csv\"\n",
        "url2_recovered = \"https://raw.githubusercontent.com/CSSEGISandData/COVID-19/master/csse_covid_19_data/csse_covid_19_time_series/time_series_covid19_recovered_global.csv\"\n",
        "\n",
        "data2_confirmed = pd.read_csv(url2_confirmed)\n",
        "data2_deaths = pd.read_csv(url2_deaths)\n",
        "data2_recovered = pd.read_csv(url2_recovered)\n",
        "\n",
        "data2_confirmed = data2_confirmed[data2_confirmed[\"Country/Region\"] == \"Poland\"].T\n",
        "data2_deaths = data2_deaths[data2_deaths[\"Country/Region\"] == \"Poland\"].T\n",
        "data2_recovered = data2_recovered[data2_recovered[\"Country/Region\"] == \"Poland\"].T\n",
        "\n",
        "data2 = data2_confirmed\n",
        "data2.rename(columns={data2.columns[0]: \"Confirmed\"}, inplace=True)\n",
        "data2[\"Deaths\"], data2[\"Recovered\"] = data2_deaths, data2_recovered\n",
        "data2.dropna(inplace=True)\n",
        "# data2[\"Deaths\"].astype(int)\n",
        "data2.tail()"
      ],
      "execution_count": 39,
      "outputs": [
        {
          "output_type": "execute_result",
          "data": {
            "text/plain": "        Confirmed Deaths Recovered\n6/19/20     31316   1334     15698\n6/20/20     31620   1346     16181\n6/21/20     31931   1356     16683\n6/22/20     32227   1359     17076\n6/23/20     32527   1375     17573",
            "text/html": "<div>\n<style scoped>\n    .dataframe tbody tr th:only-of-type {\n        vertical-align: middle;\n    }\n\n    .dataframe tbody tr th {\n        vertical-align: top;\n    }\n\n    .dataframe thead th {\n        text-align: right;\n    }\n</style>\n<table border=\"1\" class=\"dataframe\">\n  <thead>\n    <tr style=\"text-align: right;\">\n      <th></th>\n      <th>Confirmed</th>\n      <th>Deaths</th>\n      <th>Recovered</th>\n    </tr>\n  </thead>\n  <tbody>\n    <tr>\n      <th>6/19/20</th>\n      <td>31316</td>\n      <td>1334</td>\n      <td>15698</td>\n    </tr>\n    <tr>\n      <th>6/20/20</th>\n      <td>31620</td>\n      <td>1346</td>\n      <td>16181</td>\n    </tr>\n    <tr>\n      <th>6/21/20</th>\n      <td>31931</td>\n      <td>1356</td>\n      <td>16683</td>\n    </tr>\n    <tr>\n      <th>6/22/20</th>\n      <td>32227</td>\n      <td>1359</td>\n      <td>17076</td>\n    </tr>\n    <tr>\n      <th>6/23/20</th>\n      <td>32527</td>\n      <td>1375</td>\n      <td>17573</td>\n    </tr>\n  </tbody>\n</table>\n</div>"
          },
          "metadata": {},
          "execution_count": 39
        }
      ]
    },
    {
      "cell_type": "code",
      "execution_count": 41,
      "metadata": {
        "tags": []
      },
      "outputs": [
        {
          "output_type": "stream",
          "name": "stdout",
          "text": "<class 'pandas.core.frame.DataFrame'>\nIndex: 157 entries, Country/Region to 6/23/20\nData columns (total 3 columns):\n #   Column     Non-Null Count  Dtype \n---  ------     --------------  ----- \n 0   Confirmed  157 non-null    object\n 1   Deaths     157 non-null    object\n 2   Recovered  157 non-null    object\ndtypes: object(3)\nmemory usage: 4.9+ KB\n"
        }
      ],
      "source": [
        "data2.info()"
      ]
    },
    {
      "cell_type": "code",
      "execution_count": null,
      "metadata": {},
      "outputs": [],
      "source": []
    }
  ],
  "metadata": {
    "colab": {
      "name": "ProjectPython.ipynb",
      "provenance": [],
      "collapsed_sections": []
    },
    "kernelspec": {
      "name": "python3",
      "display_name": "Python 3"
    }
  },
  "nbformat": 4,
  "nbformat_minor": 0
}