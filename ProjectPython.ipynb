{
  "nbformat": 4,
  "nbformat_minor": 0,
  "metadata": {
    "colab": {
      "name": "ProjectPython.ipynb",
      "provenance": [],
      "collapsed_sections": []
    },
    "kernelspec": {
      "name": "python3",
      "display_name": "Python 3"
    }
  },
  "cells": [
    {
      "cell_type": "markdown",
      "metadata": {
        "id": "zittG7GSeJg7",
        "colab_type": "text"
      },
      "source": [
        "# **Porównanie dwóch wybranych modeli ML do przewidywania zgonów z powodu wybuchu COVID-19**"
      ]
    },
    {
      "cell_type": "markdown",
      "metadata": {
        "id": "M3CtITfOZ-Q0",
        "colab_type": "text"
      },
      "source": [
        "**Pobranie danych z 2 źródeł.**"
      ]
    },
    {
      "cell_type": "code",
      "metadata": {
        "id": "IcBUB9qlS-5m",
        "colab_type": "code",
        "colab": {
          "base_uri": "https://localhost:8080/",
          "height": 72
        },
        "outputId": "1b50ea60-ddd1-4881-d37f-1859a85ca27c"
      },
      "source": [
        "import urllib.request\n",
        "import seaborn as sns\n",
        "import numpy as np\n",
        "import pandas as pd\n",
        "import matplotlib.pyplot as plt\n",
        "from sklearn.metrics import classification_report, confusion_matrix\n",
        "\n",
        "%matplotlib inline\n",
        "plt.style.use('seaborn-whitegrid')"
      ],
      "execution_count": 1,
      "outputs": [
        {
          "output_type": "stream",
          "text": [
            "/usr/local/lib/python3.6/dist-packages/statsmodels/tools/_testing.py:19: FutureWarning: pandas.util.testing is deprecated. Use the functions in the public API at pandas.testing instead.\n",
            "  import pandas.util.testing as tm\n"
          ],
          "name": "stderr"
        }
      ]
    },
    {
      "cell_type": "code",
      "metadata": {
        "id": "V_UxY6JmaEmS",
        "colab_type": "code",
        "colab": {
          "base_uri": "https://localhost:8080/",
          "height": 194
        },
        "outputId": "13712a9e-1ef8-4e8b-d70e-18603649f1d4"
      },
      "source": [
        "url1 = \"https://raw.githubusercontent.com/fischerbach/COVID-19/master/2020-06-22.csv\"\n",
        "data1 = pd.read_csv(url1)\n",
        "data1.head()"
      ],
      "execution_count": 2,
      "outputs": [
        {
          "output_type": "execute_result",
          "data": {
            "text/html": [
              "<div>\n",
              "<style scoped>\n",
              "    .dataframe tbody tr th:only-of-type {\n",
              "        vertical-align: middle;\n",
              "    }\n",
              "\n",
              "    .dataframe tbody tr th {\n",
              "        vertical-align: top;\n",
              "    }\n",
              "\n",
              "    .dataframe thead th {\n",
              "        text-align: right;\n",
              "    }\n",
              "</style>\n",
              "<table border=\"1\" class=\"dataframe\">\n",
              "  <thead>\n",
              "    <tr style=\"text-align: right;\">\n",
              "      <th></th>\n",
              "      <th>Voivodeship</th>\n",
              "      <th>County/City</th>\n",
              "      <th>Last Update</th>\n",
              "      <th>Confirmed</th>\n",
              "      <th>Deaths</th>\n",
              "    </tr>\n",
              "  </thead>\n",
              "  <tbody>\n",
              "    <tr>\n",
              "      <th>0</th>\n",
              "      <td>dolnośląskie</td>\n",
              "      <td>no-data</td>\n",
              "      <td>2020-06-22 23:59:02</td>\n",
              "      <td>2 857</td>\n",
              "      <td>136</td>\n",
              "    </tr>\n",
              "    <tr>\n",
              "      <th>1</th>\n",
              "      <td>kujawsko-pomorskie</td>\n",
              "      <td>no-data</td>\n",
              "      <td>2020-06-22 23:59:02</td>\n",
              "      <td>652</td>\n",
              "      <td>49</td>\n",
              "    </tr>\n",
              "    <tr>\n",
              "      <th>2</th>\n",
              "      <td>lubelskie</td>\n",
              "      <td>no-data</td>\n",
              "      <td>2020-06-22 23:59:02</td>\n",
              "      <td>606</td>\n",
              "      <td>17</td>\n",
              "    </tr>\n",
              "    <tr>\n",
              "      <th>3</th>\n",
              "      <td>lubuskie</td>\n",
              "      <td>no-data</td>\n",
              "      <td>2020-06-22 23:59:02</td>\n",
              "      <td>145</td>\n",
              "      <td>0</td>\n",
              "    </tr>\n",
              "    <tr>\n",
              "      <th>4</th>\n",
              "      <td>łódzkie</td>\n",
              "      <td>no-data</td>\n",
              "      <td>2020-06-22 23:59:02</td>\n",
              "      <td>2 878</td>\n",
              "      <td>140</td>\n",
              "    </tr>\n",
              "  </tbody>\n",
              "</table>\n",
              "</div>"
            ],
            "text/plain": [
              "          Voivodeship County/City          Last Update Confirmed  Deaths\n",
              "0        dolnośląskie     no-data  2020-06-22 23:59:02     2 857     136\n",
              "1  kujawsko-pomorskie     no-data  2020-06-22 23:59:02       652      49\n",
              "2           lubelskie     no-data  2020-06-22 23:59:02       606      17\n",
              "3            lubuskie     no-data  2020-06-22 23:59:02       145       0\n",
              "4             łódzkie     no-data  2020-06-22 23:59:02     2 878     140"
            ]
          },
          "metadata": {
            "tags": []
          },
          "execution_count": 2
        }
      ]
    },
    {
      "cell_type": "code",
      "metadata": {
        "id": "QMJCU_bldB-Z",
        "colab_type": "code",
        "colab": {}
      },
      "source": [
        "# url2 = \"https://raw.githubusercontent.com/dtandev/coronavirus/master/data/CoronavirusPL%20-%20General.csv\"\n",
        "# data2 = pd.read_csv(url2)\n",
        "# data2.head()"
      ],
      "execution_count": 9,
      "outputs": []
    },
    {
      "cell_type": "code",
      "metadata": {
        "id": "wjsD469ge3Jz",
        "colab_type": "code",
        "colab": {}
      },
      "source": [
        "# # !unzip -q '/content/drive/My Drive/train_val_test.zip' -d '/content'\n",
        "# # https://ihmecovid19storage.blob.core.windows.net/latest/ihme-covid19.zip\n",
        "# url3 = \"https://ihmecovid19storage.blob.core.windows.net/latest/ihme-covid19.zip\"\n",
        "# filename = \"covid.zip\"\n",
        "# urllib.request.urlretrieve(url3, filename)\n",
        "# !unzip -q \"/content/{filename}\" -d '/content'"
      ],
      "execution_count": 4,
      "outputs": []
    },
    {
      "cell_type": "code",
      "metadata": {
        "id": "4riIOSPf1r7u",
        "colab_type": "code",
        "colab": {}
      },
      "source": [
        "url3_confirmed = \"https://raw.githubusercontent.com/CSSEGISandData/COVID-19/master/csse_covid_19_data/csse_covid_19_time_series/time_series_covid19_confirmed_global.csv\"\n",
        "data3_confirmed = pd.read_csv(url3_confirmed)\n",
        "data3_confirmed = data3_confirmed[data3_confirmed[\"Country/Region\"] == \"Poland\"].T"
      ],
      "execution_count": 25,
      "outputs": []
    },
    {
      "cell_type": "code",
      "metadata": {
        "id": "p3T2Y6Hy2zsJ",
        "colab_type": "code",
        "colab": {}
      },
      "source": [
        "url3_deaths = \"https://raw.githubusercontent.com/CSSEGISandData/COVID-19/master/csse_covid_19_data/csse_covid_19_time_series/time_series_covid19_deaths_global.csv\"\n",
        "data3_deaths = pd.read_csv(url3_deaths)\n",
        "data3_deaths = data3_deaths[data3_deaths[\"Country/Region\"] == \"Poland\"].T"
      ],
      "execution_count": 26,
      "outputs": []
    },
    {
      "cell_type": "code",
      "metadata": {
        "id": "mh3c-XHd3NEd",
        "colab_type": "code",
        "colab": {}
      },
      "source": [
        "url3_recovered = \"https://raw.githubusercontent.com/CSSEGISandData/COVID-19/master/csse_covid_19_data/csse_covid_19_time_series/time_series_covid19_recovered_global.csv\"\n",
        "data3_recovered = pd.read_csv(url3_recovered)\n",
        "data3_recovered = data3_recovered[data3_recovered[\"Country/Region\"] == \"Poland\"].T"
      ],
      "execution_count": 27,
      "outputs": []
    },
    {
      "cell_type": "code",
      "metadata": {
        "id": "jnRRi3VP0WuW",
        "colab_type": "code",
        "colab": {
          "base_uri": "https://localhost:8080/",
          "height": 931
        },
        "outputId": "fdc6d7c0-f87b-4ba7-8ccc-13850fa4c67a"
      },
      "source": [
        "data3 = data3_confirmed\n",
        "data3.rename(columns={data3.columns[0]: \"confirmed\"}, inplace=True)\n",
        "data3[\"deaths\"], data3[\"recovered\"] = data3_deaths, data3_recovered\n",
        "data3.tail(30)"
      ],
      "execution_count": 36,
      "outputs": [
        {
          "output_type": "execute_result",
          "data": {
            "text/html": [
              "<div>\n",
              "<style scoped>\n",
              "    .dataframe tbody tr th:only-of-type {\n",
              "        vertical-align: middle;\n",
              "    }\n",
              "\n",
              "    .dataframe tbody tr th {\n",
              "        vertical-align: top;\n",
              "    }\n",
              "\n",
              "    .dataframe thead th {\n",
              "        text-align: right;\n",
              "    }\n",
              "</style>\n",
              "<table border=\"1\" class=\"dataframe\">\n",
              "  <thead>\n",
              "    <tr style=\"text-align: right;\">\n",
              "      <th></th>\n",
              "      <th>confirmed</th>\n",
              "      <th>deaths</th>\n",
              "      <th>recovered</th>\n",
              "    </tr>\n",
              "  </thead>\n",
              "  <tbody>\n",
              "    <tr>\n",
              "      <th>5/24/20</th>\n",
              "      <td>21326</td>\n",
              "      <td>996</td>\n",
              "      <td>9194</td>\n",
              "    </tr>\n",
              "    <tr>\n",
              "      <th>5/25/20</th>\n",
              "      <td>21631</td>\n",
              "      <td>1007</td>\n",
              "      <td>9276</td>\n",
              "    </tr>\n",
              "    <tr>\n",
              "      <th>5/26/20</th>\n",
              "      <td>22074</td>\n",
              "      <td>1024</td>\n",
              "      <td>10020</td>\n",
              "    </tr>\n",
              "    <tr>\n",
              "      <th>5/27/20</th>\n",
              "      <td>22473</td>\n",
              "      <td>1028</td>\n",
              "      <td>10330</td>\n",
              "    </tr>\n",
              "    <tr>\n",
              "      <th>5/28/20</th>\n",
              "      <td>22825</td>\n",
              "      <td>1038</td>\n",
              "      <td>10560</td>\n",
              "    </tr>\n",
              "    <tr>\n",
              "      <th>5/29/20</th>\n",
              "      <td>23155</td>\n",
              "      <td>1051</td>\n",
              "      <td>10692</td>\n",
              "    </tr>\n",
              "    <tr>\n",
              "      <th>5/30/20</th>\n",
              "      <td>23571</td>\n",
              "      <td>1061</td>\n",
              "      <td>11016</td>\n",
              "    </tr>\n",
              "    <tr>\n",
              "      <th>5/31/20</th>\n",
              "      <td>23786</td>\n",
              "      <td>1064</td>\n",
              "      <td>11271</td>\n",
              "    </tr>\n",
              "    <tr>\n",
              "      <th>6/1/20</th>\n",
              "      <td>24165</td>\n",
              "      <td>1074</td>\n",
              "      <td>11449</td>\n",
              "    </tr>\n",
              "    <tr>\n",
              "      <th>6/2/20</th>\n",
              "      <td>24395</td>\n",
              "      <td>1092</td>\n",
              "      <td>11726</td>\n",
              "    </tr>\n",
              "    <tr>\n",
              "      <th>6/3/20</th>\n",
              "      <td>24687</td>\n",
              "      <td>1115</td>\n",
              "      <td>12014</td>\n",
              "    </tr>\n",
              "    <tr>\n",
              "      <th>6/4/20</th>\n",
              "      <td>25048</td>\n",
              "      <td>1117</td>\n",
              "      <td>12227</td>\n",
              "    </tr>\n",
              "    <tr>\n",
              "      <th>6/5/20</th>\n",
              "      <td>25410</td>\n",
              "      <td>1137</td>\n",
              "      <td>12410</td>\n",
              "    </tr>\n",
              "    <tr>\n",
              "      <th>6/6/20</th>\n",
              "      <td>25986</td>\n",
              "      <td>1153</td>\n",
              "      <td>12641</td>\n",
              "    </tr>\n",
              "    <tr>\n",
              "      <th>6/7/20</th>\n",
              "      <td>26561</td>\n",
              "      <td>1157</td>\n",
              "      <td>12855</td>\n",
              "    </tr>\n",
              "    <tr>\n",
              "      <th>6/8/20</th>\n",
              "      <td>27160</td>\n",
              "      <td>1166</td>\n",
              "      <td>12998</td>\n",
              "    </tr>\n",
              "    <tr>\n",
              "      <th>6/9/20</th>\n",
              "      <td>27560</td>\n",
              "      <td>1183</td>\n",
              "      <td>13196</td>\n",
              "    </tr>\n",
              "    <tr>\n",
              "      <th>6/10/20</th>\n",
              "      <td>27842</td>\n",
              "      <td>1206</td>\n",
              "      <td>13411</td>\n",
              "    </tr>\n",
              "    <tr>\n",
              "      <th>6/11/20</th>\n",
              "      <td>28201</td>\n",
              "      <td>1215</td>\n",
              "      <td>13696</td>\n",
              "    </tr>\n",
              "    <tr>\n",
              "      <th>6/12/20</th>\n",
              "      <td>28577</td>\n",
              "      <td>1222</td>\n",
              "      <td>13805</td>\n",
              "    </tr>\n",
              "    <tr>\n",
              "      <th>6/13/20</th>\n",
              "      <td>29017</td>\n",
              "      <td>1237</td>\n",
              "      <td>14104</td>\n",
              "    </tr>\n",
              "    <tr>\n",
              "      <th>6/14/20</th>\n",
              "      <td>29392</td>\n",
              "      <td>1247</td>\n",
              "      <td>14226</td>\n",
              "    </tr>\n",
              "    <tr>\n",
              "      <th>6/15/20</th>\n",
              "      <td>29788</td>\n",
              "      <td>1256</td>\n",
              "      <td>14383</td>\n",
              "    </tr>\n",
              "    <tr>\n",
              "      <th>6/16/20</th>\n",
              "      <td>30195</td>\n",
              "      <td>1272</td>\n",
              "      <td>14654</td>\n",
              "    </tr>\n",
              "    <tr>\n",
              "      <th>6/17/20</th>\n",
              "      <td>30701</td>\n",
              "      <td>1286</td>\n",
              "      <td>14921</td>\n",
              "    </tr>\n",
              "    <tr>\n",
              "      <th>6/18/20</th>\n",
              "      <td>31015</td>\n",
              "      <td>1316</td>\n",
              "      <td>15317</td>\n",
              "    </tr>\n",
              "    <tr>\n",
              "      <th>6/19/20</th>\n",
              "      <td>31316</td>\n",
              "      <td>1334</td>\n",
              "      <td>15698</td>\n",
              "    </tr>\n",
              "    <tr>\n",
              "      <th>6/20/20</th>\n",
              "      <td>31620</td>\n",
              "      <td>1346</td>\n",
              "      <td>16181</td>\n",
              "    </tr>\n",
              "    <tr>\n",
              "      <th>6/21/20</th>\n",
              "      <td>31931</td>\n",
              "      <td>1356</td>\n",
              "      <td>16683</td>\n",
              "    </tr>\n",
              "    <tr>\n",
              "      <th>6/22/20</th>\n",
              "      <td>32227</td>\n",
              "      <td>1359</td>\n",
              "      <td>17076</td>\n",
              "    </tr>\n",
              "  </tbody>\n",
              "</table>\n",
              "</div>"
            ],
            "text/plain": [
              "        confirmed deaths recovered\n",
              "5/24/20     21326    996      9194\n",
              "5/25/20     21631   1007      9276\n",
              "5/26/20     22074   1024     10020\n",
              "5/27/20     22473   1028     10330\n",
              "5/28/20     22825   1038     10560\n",
              "5/29/20     23155   1051     10692\n",
              "5/30/20     23571   1061     11016\n",
              "5/31/20     23786   1064     11271\n",
              "6/1/20      24165   1074     11449\n",
              "6/2/20      24395   1092     11726\n",
              "6/3/20      24687   1115     12014\n",
              "6/4/20      25048   1117     12227\n",
              "6/5/20      25410   1137     12410\n",
              "6/6/20      25986   1153     12641\n",
              "6/7/20      26561   1157     12855\n",
              "6/8/20      27160   1166     12998\n",
              "6/9/20      27560   1183     13196\n",
              "6/10/20     27842   1206     13411\n",
              "6/11/20     28201   1215     13696\n",
              "6/12/20     28577   1222     13805\n",
              "6/13/20     29017   1237     14104\n",
              "6/14/20     29392   1247     14226\n",
              "6/15/20     29788   1256     14383\n",
              "6/16/20     30195   1272     14654\n",
              "6/17/20     30701   1286     14921\n",
              "6/18/20     31015   1316     15317\n",
              "6/19/20     31316   1334     15698\n",
              "6/20/20     31620   1346     16181\n",
              "6/21/20     31931   1356     16683\n",
              "6/22/20     32227   1359     17076"
            ]
          },
          "metadata": {
            "tags": []
          },
          "execution_count": 36
        }
      ]
    }
  ]
}